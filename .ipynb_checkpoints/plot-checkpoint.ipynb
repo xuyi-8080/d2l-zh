{
 "cells": [
  {
   "cell_type": "code",
   "execution_count": 1,
   "id": "f0b3dc08",
   "metadata": {},
   "outputs": [],
   "source": [
    "import os\n",
    "import random\n",
    "\n",
    "import numpy as np\n",
    "import pandas as pd\n",
    "import torch\n",
    "import matplotlib.pyplot as plt\n",
    "from torch import nn\n",
    "from torch.utils.data import Dataset, DataLoader\n",
    "from torch.optim.lr_scheduler import StepLR\n",
    "from scipy.interpolate import make_interp_spline\n",
    "from itertools import chain"
   ]
  },
  {
   "cell_type": "code",
   "execution_count": 2,
   "id": "20f334eb",
   "metadata": {},
   "outputs": [],
   "source": [
    "BP_predict = pd.read_csv('E:\\论文素材\\数据\\BP_predict.csv', encoding='gbk')\n",
    "LSTM_EWT_predict = pd.read_csv('E:\\论文素材\\数据\\LSTM_EWT_predict.csv', encoding='gbk')\n",
    "LSTM_predict = pd.read_csv('E:\\论文素材\\数据\\LSTM_predict.csv', encoding='gbk')\n",
    "RNN_predict = pd.read_csv('E:\\论文素材\\数据\\RNN_predict.csv', encoding='gbk')"
   ]
  },
  {
   "cell_type": "code",
   "execution_count": 3,
   "id": "d710188a",
   "metadata": {},
   "outputs": [
    {
     "name": "stdout",
     "output_type": "stream",
     "text": [
      "(440, 1)\n",
      "(440, 1)\n",
      "(440, 1)\n",
      "(440, 1)\n"
     ]
    }
   ],
   "source": [
    "print(BP_predict.shape)\n",
    "print(LSTM_EWT_predict.shape)\n",
    "print(LSTM_predict.shape)\n",
    "print(RNN_predict.shape)"
   ]
  },
  {
   "cell_type": "code",
   "execution_count": null,
   "id": "58aab8bf",
   "metadata": {},
   "outputs": [],
   "source": [
    "y = BP_predict\n",
    "# plot\n",
    "plt.figure(1, figsize=(10, 5))\n",
    "plt.xticks(fontsize=30)\n",
    "plt.yticks(fontsize=30)\n",
    "    \n",
    "x = [i for i in range(1, 440+1)]\n",
    "x_smooth = np.linspace(np.min(x), np.max(x), 600)\n",
    "y_smooth = make_interp_spline(x, y)(x_smooth)\n",
    "plt.plot(x_smooth, y_smooth, c='green', marker='*', ms=1, alpha=0.75, label='true')\n",
    "\n",
    "y_smooth = make_interp_spline(x, pred)(x_smooth)\n",
    "plt.plot(x_smooth, y_smooth, c='red', marker='o', ms=1, alpha=0.75, label='pred')\n",
    "plt.grid(axis='y')\n",
    "plt.legend()\n",
    "plt.show()"
   ]
  }
 ],
 "metadata": {
  "kernelspec": {
   "display_name": "Python 3 (ipykernel)",
   "language": "python",
   "name": "python3"
  },
  "language_info": {
   "codemirror_mode": {
    "name": "ipython",
    "version": 3
   },
   "file_extension": ".py",
   "mimetype": "text/x-python",
   "name": "python",
   "nbconvert_exporter": "python",
   "pygments_lexer": "ipython3",
   "version": "3.8.12"
  }
 },
 "nbformat": 4,
 "nbformat_minor": 5
}
