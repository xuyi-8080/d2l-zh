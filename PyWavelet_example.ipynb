{
 "cells": [
  {
   "cell_type": "code",
   "execution_count": 1,
   "id": "e071f931",
   "metadata": {},
   "outputs": [],
   "source": [
    "import pywt"
   ]
  },
  {
   "cell_type": "code",
   "execution_count": 11,
   "id": "25a45041",
   "metadata": {},
   "outputs": [],
   "source": [
    "x = [3, 7, 1, 1, -2, 5, 4, 6]\n",
    "cA, cD = pywt.dwt(x, 'haar') #cA 是相似系数低频成分, cD 是细节系数高频成分\n",
    "cB, cC = pywt.dwt(cA, 'haar')\n",
    "cD = [0, 0, 0, 0]"
   ]
  },
  {
   "cell_type": "code",
   "execution_count": 12,
   "id": "e74ff115",
   "metadata": {},
   "outputs": [],
   "source": [
    "y = pywt.idwt(cA,cD , 'haar')"
   ]
  },
  {
   "cell_type": "code",
   "execution_count": 13,
   "id": "a47ea7ad",
   "metadata": {},
   "outputs": [
    {
     "name": "stdout",
     "output_type": "stream",
     "text": [
      "[7.07106781 1.41421356 2.12132034 7.07106781]\n",
      "[0, 0, 0, 0]\n",
      "[6.  6.5]\n",
      "[ 4.  -3.5]\n",
      "[5.  5.  1.  1.  1.5 1.5 5.  5. ]\n"
     ]
    }
   ],
   "source": [
    "print(cA)\n",
    "print(cD)\n",
    "print(cB)\n",
    "print(cC)\n",
    "print(y)"
   ]
  },
  {
   "cell_type": "code",
   "execution_count": 8,
   "id": "f4fd1e2e",
   "metadata": {},
   "outputs": [
    {
     "name": "stdout",
     "output_type": "stream",
     "text": [
      "cA2= [6.  6.5 6.5 6. ]\n",
      "cD2= [ 4.  -3.5  3.5 -4. ]\n",
      "cD1= [-2.82842712  0.         -4.94974747 -1.41421356  1.41421356  4.94974747\n",
      "  0.          2.82842712]\n",
      "y= [ 3.  7.  1.  1. -2.  5.  4.  6.  6.  4.  5. -2.  1.  1.  7.  3.]\n"
     ]
    }
   ],
   "source": [
    "x = [3, 7, 1, 1, -2, 5, 4, 6, 6, 4, 5, -2, 1, 1, 7, 3]\n",
    "\n",
    "coeffs = pywt.wavedec(x, 'db1', level=2, mode='periodic')\n",
    "cA2, cD2, cD1=coeffs\n",
    "\n",
    "y = pywt.waverec(coeffs, 'db1', mode='periodic')\n",
    "\n",
    "print(\"cA2=\", cA2)\n",
    "print(\"cD2=\", cD2)\n",
    "print(\"cD1=\", cD1)\n",
    "print(\"y=\", y)\n"
   ]
  },
  {
   "cell_type": "code",
   "execution_count": null,
   "id": "57b2e308",
   "metadata": {},
   "outputs": [],
   "source": []
  }
 ],
 "metadata": {
  "kernelspec": {
   "display_name": "Python 3 (ipykernel)",
   "language": "python",
   "name": "python3"
  },
  "language_info": {
   "codemirror_mode": {
    "name": "ipython",
    "version": 3
   },
   "file_extension": ".py",
   "mimetype": "text/x-python",
   "name": "python",
   "nbconvert_exporter": "python",
   "pygments_lexer": "ipython3",
   "version": "3.8.12"
  }
 },
 "nbformat": 4,
 "nbformat_minor": 5
}
