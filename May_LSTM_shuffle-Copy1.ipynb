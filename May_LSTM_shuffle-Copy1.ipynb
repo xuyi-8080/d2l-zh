{
 "cells": [
  {
   "cell_type": "code",
   "execution_count": 59,
   "id": "294cc5af",
   "metadata": {},
   "outputs": [],
   "source": [
    "from sklearn import preprocessing\n",
    "import pandas as pd\n",
    "import numpy as np\n",
    "import sys\n",
    "import torch.optim as optim\n",
    "import torch\n",
    "import torch.nn as nn\n",
    "import matplotlib.pyplot as plt\n",
    "import numpy as np\n",
    "from torch.utils.data import Dataset, DataLoader, TensorDataset\n",
    "import time\n",
    "from torch.utils.data import Dataset, DataLoader"
   ]
  },
  {
   "cell_type": "code",
   "execution_count": 60,
   "id": "2f591377",
   "metadata": {},
   "outputs": [],
   "source": [
    "# 1. 用Dataset封装数据集，仅做示范，实际可直接用TensorDataset封装\n",
    "class MyDataset(Dataset):\n",
    "    def __init__(self, x, y):\n",
    "        assert x.size(0)==y.size(0)\n",
    "        self.x, self.y = x, y\n",
    "    #定义初始化变量\n",
    "    def __getitem__(self, idx):\n",
    "        return (self.x[idx], self.y[idx])\n",
    "    #定义每次取出的对应数值\n",
    "    def __len__(self):\n",
    "        return self.x.size(0)\n",
    "    #定义tensor的总长度"
   ]
  },
  {
   "cell_type": "code",
   "execution_count": 61,
   "id": "dbacd022",
   "metadata": {},
   "outputs": [],
   "source": [
    "torch.manual_seed(60)\n",
    "\n",
    "##导入数据\n",
    "data = pd.read_csv('E:\\实验数据\\python\\RNN_data\\data_1.csv')\n",
    "data = data.values\n",
    "\n",
    "##转换成array\n",
    "data_array = data.astype('double')\n",
    "\n",
    "n_train = 1200  #时间 前 n_train 个时间点\n",
    "train_x = data_array[:n_train, :-1]\n",
    "train_y = data_array[:n_train, [-1]]\n",
    "test_x = data_array[n_train:, :-1]\n",
    "test_y = data_array[n_train:, [-1]]"
   ]
  },
  {
   "cell_type": "code",
   "execution_count": 62,
   "id": "9a4f9d10",
   "metadata": {},
   "outputs": [],
   "source": [
    "##归一化\n",
    "x_scaler_train = preprocessing.MinMaxScaler(feature_range=(0, 1))\n",
    "y_scaler_train = preprocessing.MinMaxScaler(feature_range=(0, 1))\n",
    "x_scaler_test = preprocessing.MinMaxScaler(feature_range=(0, 1))\n",
    "y_scaler_test = preprocessing.MinMaxScaler(feature_range=(0, 1))\n",
    "\n",
    "train_X = x_scaler_train.fit_transform(train_x)\n",
    "train_Y = y_scaler_train.fit_transform(train_y)\n",
    "test_X = x_scaler_test.fit_transform(test_x)\n",
    "test_Y = y_scaler_test.fit_transform(test_y)"
   ]
  },
  {
   "cell_type": "code",
   "execution_count": 63,
   "id": "9a82eaa0",
   "metadata": {},
   "outputs": [],
   "source": [
    "# 将数据以50个时间长度为一个窗口, 分成很多个窗口, 之后加载为Dataset \n",
    "# 测试集这个list 要加载成两个dataset 一个打乱的用于训练, 一个未打乱的用来看拟合效果\n",
    "data_batch = []\n",
    "y_batch = []\n",
    "for j in range(1200 - 9):\n",
    "    dt = []\n",
    "    y_t = []\n",
    "    for i in range(10):\n",
    "        dt.append(train_X[j+i])\n",
    "        y_t.append(train_Y[j+i])\n",
    "    data_batch.append(dt)\n",
    "    y_batch.append(y_t)\n",
    "    \n",
    "\n",
    "test_data_batch = []\n",
    "test_y_batch = []\n",
    "for j in range(300 - 9):\n",
    "    dt = []\n",
    "    y_t = []\n",
    "    for i in range(10):\n",
    "        dt.append(test_X[j+i])\n",
    "        y_t.append(test_Y[j+i])\n",
    "    test_data_batch.append(dt)\n",
    "    test_y_batch.append(y_t)"
   ]
  },
  {
   "cell_type": "code",
   "execution_count": 64,
   "id": "400ffb26",
   "metadata": {},
   "outputs": [
    {
     "name": "stdout",
     "output_type": "stream",
     "text": [
      "torch.Size([291, 10, 6])\n",
      "torch.Size([1191, 10, 6])\n"
     ]
    }
   ],
   "source": [
    "#加载为dataloader\n",
    "data_batch = torch.tensor(data_batch, dtype=torch.float32)\n",
    "y_batch = torch.tensor(y_batch, dtype=torch.float32)\n",
    "test_data_batch = torch.tensor(test_data_batch, dtype=torch.float32)\n",
    "test_y_batch = torch.tensor(test_y_batch, dtype=torch.float32)\n",
    "\n",
    "print(test_data_batch.shape)\n",
    "print(data_batch.shape)\n",
    "\n",
    "dataset_train = MyDataset(data_batch,y_batch)\n",
    "dataset_train_1 = MyDataset(data_batch,y_batch)\n",
    "TrainDataLoader = DataLoader(dataset=dataset_train,shuffle=True,batch_size=5)  #训练用, 打乱了\n",
    "TrainDataLoader_1 = DataLoader(dataset=dataset_train_1,shuffle=False,batch_size=1)  #看效果用, 未打乱\n",
    "\n",
    "dataset_test = MyDataset(test_data_batch,test_y_batch)   \n",
    "TestDataLoader = DataLoader(dataset=dataset_test,shuffle=False,batch_size=1)   #测试用 未打乱"
   ]
  },
  {
   "cell_type": "code",
   "execution_count": 65,
   "id": "b5bd02a0",
   "metadata": {},
   "outputs": [],
   "source": [
    "seq_len = 10\n",
    "TIME_STEP = 1200\n",
    "INPUT_SIZE = 6\n",
    "HIDDEN_SIZE = 5\n",
    "LR = 0.00001"
   ]
  },
  {
   "cell_type": "code",
   "execution_count": 66,
   "id": "bcd11dde",
   "metadata": {},
   "outputs": [],
   "source": [
    "class LSTM(nn.Module):\n",
    "    def __init__(self):\n",
    "        super(LSTM, self).__init__()\n",
    "        self.lstm = nn.LSTM(\n",
    "            input_size=INPUT_SIZE,\n",
    "            hidden_size=HIDDEN_SIZE,  # RNN隐藏神经元个数\n",
    "            num_layers=1,  # RNN隐藏层个数\n",
    "        )\n",
    "        self.out = nn.Linear(HIDDEN_SIZE, 1)\n",
    "\n",
    "    def forward(self, x, h, c):\n",
    "        # x (time_step, batch_size, input_size)\n",
    "        # out (time_step, batch_size, hidden_size)\n",
    "        out, (h, c) = self.lstm(x, (h, c))\n",
    "        prediction = self.out(out)\n",
    "        return prediction, (h, c)"
   ]
  },
  {
   "cell_type": "code",
   "execution_count": 67,
   "id": "2b0997fe",
   "metadata": {},
   "outputs": [],
   "source": [
    "lstm = LSTM()\n",
    "optimizer = torch.optim.Adam(lstm.parameters(), lr=LR)   # optimize all cnn parameters\n",
    "loss_func = nn.MSELoss()\n",
    "# h (n_layers, batch, hidden_size)\n",
    "# c 和 h 一样\n",
    "h_state = torch.randn(1, 5, HIDDEN_SIZE)\n",
    "c_0 = torch.randn(1, 5, HIDDEN_SIZE)"
   ]
  },
  {
   "cell_type": "code",
   "execution_count": 68,
   "id": "1fabc0a5",
   "metadata": {},
   "outputs": [
    {
     "name": "stdout",
     "output_type": "stream",
     "text": [
      " 迭代次数: 1\n",
      "train loss: 0.021848296746611595\n",
      " 迭代次数: 2\n",
      "train loss: 0.04201193153858185\n",
      " 迭代次数: 3\n",
      "train loss: 0.0383668877184391\n",
      " 迭代次数: 4\n",
      "train loss: 0.010601408779621124\n",
      " 迭代次数: 5\n",
      "train loss: 0.022629451006650925\n",
      " 迭代次数: 6\n",
      "train loss: 0.029936593025922775\n",
      " 迭代次数: 7\n",
      "train loss: 0.026994111016392708\n",
      " 迭代次数: 8\n",
      "train loss: 0.020759159699082375\n",
      " 迭代次数: 9\n",
      "train loss: 0.02032739669084549\n",
      " 迭代次数: 10\n",
      "train loss: 0.03166888281702995\n"
     ]
    }
   ],
   "source": [
    "#训练\n",
    "epochs = 10\n",
    "i = 0\n",
    "loss_array = []\n",
    "t1 = time.time()\n",
    "for epoch in range(epochs):\n",
    "    i = i+1\n",
    "    print(\" 迭代次数: {}\".format(i)) \n",
    "    for X,y in TrainDataLoader:\n",
    "        X=X.reshape(10,-1,6)\n",
    "        y=y.reshape(10,-1,1)\n",
    "        if(X.size()[1] == 1):\n",
    "            continue\n",
    "        prediction, temp= lstm(X, h_state, c_0)  #prediction [50, 1, 1]\n",
    "        h_state = temp[0].detach()\n",
    "        c_0 = temp[1].detach()\n",
    "        loss = loss_func(prediction, y)\n",
    "        optimizer.zero_grad() #清空过往梯度\n",
    "        loss.backward()      #反向传播, 计算当前梯度  \n",
    "        optimizer.step()     #根据梯度更新网络参数\n",
    "    loss_array.append(loss.detach().numpy())\n",
    "    print(\"train loss: {}\".format(loss))\n",
    "train_time = time.time() - t1\n",
    "    \n"
   ]
  },
  {
   "cell_type": "code",
   "execution_count": 27,
   "id": "edb49022",
   "metadata": {},
   "outputs": [
    {
     "data": {
      "image/png": "[encoded data removed]",
      "text/plain": [
       "<Figure size 720x360 with 1 Axes>"
      ]
     },
     "metadata": {
      "needs_background": "light"
     },
     "output_type": "display_data"
    },
    {
     "name": "stdout",
     "output_type": "stream",
     "text": [
      "rmse: 1.0720992940778875\n",
      "train_time: 8.408509492874146\n"
     ]
    }
   ],
   "source": [
    "#训练结果画图\n",
    "h_state = torch.randn(1, 1, HIDDEN_SIZE)\n",
    "c_0 = torch.randn(1, 1, HIDDEN_SIZE)\n",
    "truth_height = [] #观测值\n",
    "prediction = [] #预测结果\n",
    "for X,y in TrainDataLoader_1:\n",
    "    X=X.reshape(10,-1,6)\n",
    "    pp, test = lstm(X, h_state, c_0)  #预测\n",
    "    h_state = test[0].detach()\n",
    "    c_0 = test[1].detach()\n",
    "    \n",
    "    #展平\n",
    "    tt = y.data.numpy().reshape(-1, 1)\n",
    "    pp = pp.data.numpy().reshape(-1, 1)\n",
    "    \n",
    "    #反归一化\n",
    "    tt = y_scaler_train.inverse_transform(tt)\n",
    "    pp = y_scaler_train.inverse_transform(pp)\n",
    "    \n",
    "    #最后一个值是我们的预测的时刻\n",
    "    prediction.append(pp[9][0])\n",
    "    truth_height.append(tt[9][0])\n",
    "\n",
    "# 画图\n",
    "num = list(range(1191))\n",
    "# 红色是实际，蓝色是预测\n",
    "plt.figure(1, figsize=(10, 5))\n",
    "plt.xticks(fontsize=30)\n",
    "plt.yticks(fontsize=30)\n",
    "\n",
    "plt.plot(num, truth_height, 'r-')\n",
    "plt.plot(num, prediction, 'b-')\n",
    "plt.draw(); plt.pause(0.05)  \n",
    "\n",
    "truth_height = np.array(truth_height)\n",
    "prediction = np.array(prediction)\n",
    "error = truth_height - prediction\n",
    "rmse = np.mean(error ** 2) ** 0.5\n",
    "print(\"rmse:\", rmse.item())\n",
    "print(\"train_time:\", train_time)"
   ]
  },
  {
   "cell_type": "code",
   "execution_count": 28,
   "id": "8b1ea801",
   "metadata": {},
   "outputs": [
    {
     "ename": "RuntimeError",
     "evalue": "shape '[50, -1, 6]' is invalid for input of size 60",
     "output_type": "error",
     "traceback": [
      "\u001b[1;31m---------------------------------------------------------------------------\u001b[0m",
      "\u001b[1;31mRuntimeError\u001b[0m                              Traceback (most recent call last)",
      "Input \u001b[1;32mIn [28]\u001b[0m, in \u001b[0;36m<cell line: 6>\u001b[1;34m()\u001b[0m\n\u001b[0;32m      5\u001b[0m prediction \u001b[38;5;241m=\u001b[39m [] \u001b[38;5;66;03m#预测结果\u001b[39;00m\n\u001b[0;32m      6\u001b[0m \u001b[38;5;28;01mfor\u001b[39;00m X,y \u001b[38;5;129;01min\u001b[39;00m TestDataLoader:\n\u001b[1;32m----> 7\u001b[0m     X\u001b[38;5;241m=\u001b[39m\u001b[43mX\u001b[49m\u001b[38;5;241;43m.\u001b[39;49m\u001b[43mreshape\u001b[49m\u001b[43m(\u001b[49m\u001b[38;5;241;43m50\u001b[39;49m\u001b[43m,\u001b[49m\u001b[38;5;241;43m-\u001b[39;49m\u001b[38;5;241;43m1\u001b[39;49m\u001b[43m,\u001b[49m\u001b[38;5;241;43m6\u001b[39;49m\u001b[43m)\u001b[49m\n\u001b[0;32m      8\u001b[0m     pp, test \u001b[38;5;241m=\u001b[39m lstm(X, h_state, c_0)\n\u001b[0;32m      9\u001b[0m     h_state \u001b[38;5;241m=\u001b[39m test[\u001b[38;5;241m0\u001b[39m]\u001b[38;5;241m.\u001b[39mdetach()\n",
      "\u001b[1;31mRuntimeError\u001b[0m: shape '[50, -1, 6]' is invalid for input of size 60"
     ]
    }
   ],
   "source": [
    "#测试集结果\n",
    "h_state = torch.randn(1, 1, HIDDEN_SIZE)\n",
    "c_0 = torch.randn(1, 1, HIDDEN_SIZE)\n",
    "truth_height = [] #观测值\n",
    "prediction = [] #预测结果\n",
    "for X,y in TestDataLoader:\n",
    "    X=X.reshape(50,-1,6)\n",
    "    pp, test = lstm(X, h_state, c_0)\n",
    "    h_state = test[0].detach()\n",
    "    c_0 = test[1].detach()\n",
    "    \n",
    "    tt = y.data.numpy().reshape(-1, 1)\n",
    "    pp = pp.data.numpy().reshape(-1, 1)\n",
    "    \n",
    "    tt = y_scaler_test.inverse_transform(tt)\n",
    "    pp = y_scaler_test.inverse_transform(pp)\n",
    "    \n",
    "    prediction.append(pp[49][0]+1)\n",
    "    truth_height.append(tt[49][0])\n",
    "\n",
    "\n",
    "# 画图\n",
    "num = list(range(251))\n",
    "# 红色是实际，蓝色是预测\n",
    "plt.figure(1, figsize=(10, 5))\n",
    "plt.xticks(fontsize=30)\n",
    "plt.yticks(fontsize=30)\n",
    "\n",
    "plt.plot(num, truth_height, 'r-')\n",
    "plt.plot(num, prediction, 'b-')\n",
    "plt.draw(); plt.pause(0.05)  \n",
    "\n",
    "truth_height = np.array(truth_height)\n",
    "prediction = np.array(prediction)\n",
    "error = truth_height - prediction\n",
    "rmse = np.mean(error ** 2) ** 0.5\n",
    "print(\"rmse:\", rmse.item())\n",
    "print(\"train_time:\", train_time)"
   ]
  },
  {
   "cell_type": "code",
   "execution_count": null,
   "id": "8211e1cd",
   "metadata": {},
   "outputs": [],
   "source": [
    "# print(loss_array)\n",
    "num = list(range(epochs))\n",
    "plt.plot(num, loss_array, 'r-')"
   ]
  },
  {
   "cell_type": "code",
   "execution_count": null,
   "id": "44e32325",
   "metadata": {},
   "outputs": [],
   "source": []
  }
 ],
 "metadata": {
  "kernelspec": {
   "display_name": "Python 3 (ipykernel)",
   "language": "python",
   "name": "python3"
  },
  "language_info": {
   "codemirror_mode": {
    "name": "ipython",
    "version": 3
   },
   "file_extension": ".py",
   "mimetype": "text/x-python",
   "name": "python",
   "nbconvert_exporter": "python",
   "pygments_lexer": "ipython3",
   "version": "3.8.12"
  }
 },
 "nbformat": 4,
 "nbformat_minor": 5
}
