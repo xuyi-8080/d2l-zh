{
 "cells": [
  {
   "cell_type": "code",
   "execution_count": 1,
   "id": "0adf4beb",
   "metadata": {},
   "outputs": [],
   "source": [
    "from sklearn import preprocessing\n",
    "import pandas as pd\n",
    "import numpy as np\n",
    "import sys\n",
    "import torch.optim as optim\n",
    "import torch\n",
    "import torch.nn as nn\n",
    "import matplotlib.pyplot as plt\n",
    "import numpy as np\n",
    "from torch.utils.data import Dataset, DataLoader, TensorDataset"
   ]
  },
  {
   "cell_type": "code",
   "execution_count": null,
   "id": "0570a24a",
   "metadata": {},
   "outputs": [],
   "source": [
    "\n",
    "'''\n",
    "input_size     n*d    批次 * 输入维度\n",
    "hidden         n*m    批次 * 隐层维度\n",
    "bias           bool   False则不提供偏置\n",
    "nonlinearity  string  非线性函数选择, \"tanh\" 或 \"relu\" 默认 \"tanh\"\n",
    "'''\n",
    "\n",
    "cell = torch.nn.RNNCell(input_size, hidden_size, bias, nonlinearity)\n",
    "hidden = cell(input, hidden)"
   ]
  }
 ],
 "metadata": {
  "kernelspec": {
   "display_name": "Python 3 (ipykernel)",
   "language": "python",
   "name": "python3"
  },
  "language_info": {
   "codemirror_mode": {
    "name": "ipython",
    "version": 3
   },
   "file_extension": ".py",
   "mimetype": "text/x-python",
   "name": "python",
   "nbconvert_exporter": "python",
   "pygments_lexer": "ipython3",
   "version": "3.8.12"
  }
 },
 "nbformat": 4,
 "nbformat_minor": 5
}
